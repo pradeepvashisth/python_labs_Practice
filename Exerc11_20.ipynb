{
 "cells": [
  {
   "cell_type": "markdown",
   "metadata": {},
   "source": [
    "Exer 11\n",
    "\n",
    "Check Primality Functions "
   ]
  },
  {
   "cell_type": "code",
   "execution_count": 19,
   "metadata": {},
   "outputs": [
    {
     "name": "stdout",
     "output_type": "stream",
     "text": [
      "Please tell the number16\n",
      "Please tell the number12\n",
      "you are over 15\n",
      "you are in grade 12\n"
     ]
    }
   ],
   "source": [
    "def take_input():\n",
    "    return int(input(\"Please tell the number\"))\n",
    "age=take_input()\n",
    "school_year=take_input()\n",
    "if age>15:\n",
    "    print(\"you are over 15\")\n",
    "    print(\"you are in grade \"+str(school_year))"
   ]
  },
  {
   "cell_type": "markdown",
   "metadata": {},
   "source": [
    "Exer 12\n",
    "\n",
    "List Ends"
   ]
  },
  {
   "cell_type": "code",
   "execution_count": null,
   "metadata": {},
   "outputs": [],
   "source": [
    "a = [5, 10, 15, 20, 25]\n",
    "\n"
   ]
  },
  {
   "cell_type": "code",
   "execution_count": 22,
   "metadata": {},
   "outputs": [
    {
     "ename": "SyntaxError",
     "evalue": "invalid syntax (<ipython-input-22-d9ff6617f46a>, line 4)",
     "output_type": "error",
     "traceback": [
      "\u001b[1;36m  File \u001b[1;32m\"<ipython-input-22-d9ff6617f46a>\"\u001b[1;36m, line \u001b[1;32m4\u001b[0m\n\u001b[1;33m    if number = input(\"Please enter the number \")\u001b[0m\n\u001b[1;37m              ^\u001b[0m\n\u001b[1;31mSyntaxError\u001b[0m\u001b[1;31m:\u001b[0m invalid syntax\n"
     ]
    }
   ],
   "source": [
    "def fib_func(help_text):\n",
    "    return int(input(help_text))\n",
    "\n",
    "number = input(\"how many to generate \")\n",
    "if number\n",
    "print(number)\n",
    "\n"
   ]
  },
  {
   "cell_type": "code",
   "execution_count": null,
   "metadata": {},
   "outputs": [],
   "source": []
  }
 ],
 "metadata": {
  "kernelspec": {
   "display_name": "Python 3",
   "language": "python",
   "name": "python3"
  },
  "language_info": {
   "codemirror_mode": {
    "name": "ipython",
    "version": 3
   },
   "file_extension": ".py",
   "mimetype": "text/x-python",
   "name": "python",
   "nbconvert_exporter": "python",
   "pygments_lexer": "ipython3",
   "version": "3.6.5"
  }
 },
 "nbformat": 4,
 "nbformat_minor": 2
}
