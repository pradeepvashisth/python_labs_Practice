{
 "cells": [
  {
   "cell_type": "markdown",
   "metadata": {},
   "source": [
    "## Exer_1 Character or Input\n",
    "\n",
    "Create a program that asks the user to enter their name and their age. Print out a message addressed to them that tells them the year that they will turn 100 years old."
   ]
  },
  {
   "cell_type": "code",
   "execution_count": 4,
   "metadata": {},
   "outputs": [
    {
     "name": "stdout",
     "output_type": "stream",
     "text": [
      "My name is P\n",
      "My Age is 35\n",
      "You will be 100 year old in the year 2084\n"
     ]
    }
   ],
   "source": [
    "user_name = input(\"My name is \")\n",
    "user_age= int(input(\"My Age is \"))\n",
    "Year = (2019-user_age)+100\n",
    "print(\"You will be 100 year old in the year \"+ str(Year))"
   ]
  },
  {
   "cell_type": "markdown",
   "metadata": {},
   "source": [
    "## Exer_2 Odd Or Even\n",
    "\n",
    "Ask the user for a number. Depending on whether the number is even or odd, print out an appropriate message to the user. Hint: how does an even / odd number react differently when divided by 2?\n",
    "\n",
    "Extras:\n",
    "\n",
    "1. If the number is a multiple of 4, print out a different message.\n",
    "\n",
    "2. Ask the user for two numbers: one number to check (call it num) and one number to divide by (check). If check divides evenly into num, tell that to the user. If not, print a different appropriate message."
   ]
  },
  {
   "cell_type": "code",
   "execution_count": 17,
   "metadata": {},
   "outputs": [
    {
     "name": "stdout",
     "output_type": "stream",
     "text": [
      "Please enter your first number 23\n",
      "number is odd\n"
     ]
    }
   ],
   "source": [
    "num = int(input(\"Please enter your first number \"))\n",
    "if num%2==0:\n",
    "    print(\"number is even\")\n",
    "elif num%4==0:\n",
    "    print(\"number is divisible by 4\")\n",
    "else:\n",
    "    print(\"number is odd\")"
   ]
  },
  {
   "cell_type": "code",
   "execution_count": 22,
   "metadata": {},
   "outputs": [
    {
     "name": "stdout",
     "output_type": "stream",
     "text": [
      "Please enter your number to check5\n",
      "Enter number to divide by 3\n",
      "5 does not divide evenly by 3\n"
     ]
    }
   ],
   "source": [
    "num = int(input(\"Please enter your number to check\"))\n",
    "check = int(input(\"Enter number to divide by \"))\n",
    "if num%check==0:\n",
    "    print(str(num) + \" check divides evenly into num \" + str(check))\n",
    "else:\n",
    "    print(str(num)+ \" does not divide evenly by \"+ str(check))"
   ]
  },
  {
   "cell_type": "code",
   "execution_count": null,
   "metadata": {},
   "outputs": [],
   "source": []
  },
  {
   "cell_type": "code",
   "execution_count": null,
   "metadata": {},
   "outputs": [],
   "source": []
  }
 ],
 "metadata": {
  "kernelspec": {
   "display_name": "Python 3",
   "language": "python",
   "name": "python3"
  },
  "language_info": {
   "codemirror_mode": {
    "name": "ipython",
    "version": 3
   },
   "file_extension": ".py",
   "mimetype": "text/x-python",
   "name": "python",
   "nbconvert_exporter": "python",
   "pygments_lexer": "ipython3",
   "version": "3.6.5"
  }
 },
 "nbformat": 4,
 "nbformat_minor": 2
}
