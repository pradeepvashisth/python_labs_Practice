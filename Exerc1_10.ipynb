{
 "cells": [
  {
   "cell_type": "markdown",
   "metadata": {},
   "source": [
    " Ex 1 Odd-Even number"
   ]
  },
  {
   "cell_type": "code",
   "execution_count": 3,
   "metadata": {},
   "outputs": [
    {
     "name": "stdout",
     "output_type": "stream",
     "text": [
      "number is odd\n"
     ]
    }
   ],
   "source": [
    "def odd_even(num):\n",
    "    if num%2==0:\n",
    "        print(\"number is even\")\n",
    "    else:\n",
    "        print(\"number is odd\")\n",
    "odd_even(11)"
   ]
  },
  {
   "cell_type": "code",
   "execution_count": 3,
   "metadata": {},
   "outputs": [
    {
     "name": "stdout",
     "output_type": "stream",
     "text": [
      "give me a number to check: 3\n",
      "give me a number to divide by: 6\n",
      "it's a odd number\n"
     ]
    }
   ],
   "source": [
    "num = int(input(\"give me a number to check: \"))\n",
    "check = int(input(\"give me a number to divide by: \"))\n",
    "def odd_even(num, check):\n",
    "    if num%4==0:\n",
    "        print(\"the number is divisible by 4\")\n",
    "    elif num%2==0:\n",
    "        print(\"The number is even\")\n",
    "    elif num%check==0:\n",
    "        print(\"the number \" + check + \" is not divisible with other \" + num)\n",
    "    else:\n",
    "        print(\"it's a odd number\")\n",
    "odd_even(11, 9)"
   ]
  },
  {
   "cell_type": "code",
   "execution_count": null,
   "metadata": {},
   "outputs": [],
   "source": [
    "num = int(input(\"give me a number to check: \"))\n",
    "check = int(input(\"give me a number to divide by: \"))\n",
    "def odd_even(num):\n",
    "    if num%4==0:\n",
    "        print(\"the number is even\")\n",
    "    print(\"it's a odd number\")"
   ]
  },
  {
   "cell_type": "markdown",
   "metadata": {},
   "source": [
    "Ex 2 Character Input"
   ]
  },
  {
   "cell_type": "code",
   "execution_count": 8,
   "metadata": {},
   "outputs": [
    {
     "name": "stdout",
     "output_type": "stream",
     "text": [
      "Please enter your namePradeep\n",
      "whats your age please35\n",
      "MR Pradeep will be turning 100 year old in the 2083 year so good luck\n"
     ]
    }
   ],
   "source": [
    "name=input(\"Please enter your name\")\n",
    "age=int(input(\"whats your age please\"))\n",
    "year=str((2018-age)+100)\n",
    "print(\"MR \"+ name + \" will be turning 100 year old in the year of \" + year + \" so good luck\")  "
   ]
  },
  {
   "cell_type": "code",
   "execution_count": 19,
   "metadata": {},
   "outputs": [
    {
     "name": "stdout",
     "output_type": "stream",
     "text": [
      "Please enter your name Pradeep\n",
      "My name is Pradeep\n",
      "Please enter your age 35\n",
      "Pradeep will be 100 year old in the year 2083\n"
     ]
    }
   ],
   "source": [
    "name = input(\"Please enter your name \")\n",
    "print(\"My name is \" + name)\n",
    "age=int(input(\"Please enter your age \"))\n",
    "year=str((2018-age)+100)\n",
    "print(name +\" \"+ \"will be 100 year old in the year \"+ year)\n"
   ]
  },
  {
   "cell_type": "markdown",
   "metadata": {},
   "source": [
    "Ex 3 ------------------------------------- to be work\n",
    "List Less Than Ten  \n",
    "(need to learn this more in depth later, see link for more function with list)\n",
    "http://www.tutorialspoint.com/python/python_lists.htm\n"
   ]
  },
  {
   "cell_type": "code",
   "execution_count": 12,
   "metadata": {},
   "outputs": [
    {
     "name": "stdout",
     "output_type": "stream",
     "text": [
      "the value is less than 5 and it is 1\n",
      "the value is less than 5 and it is 1\n",
      "the value is less than 5 and it is 2\n",
      "the value is less than 5 and it is 3\n",
      "the value is less than 5 and it is 5\n"
     ]
    }
   ],
   "source": [
    "a = [1, 1, 2, 3, 5, 8, 13, 21, 34, 55, 89]\n",
    "z=a\n",
    "for z in a:\n",
    "    if z <= 5:\n",
    "        print(f'the value is less than 5 and it is {z}')\n",
    "    else:\n",
    "        pass"
   ]
  },
  {
   "cell_type": "code",
   "execution_count": 22,
   "metadata": {},
   "outputs": [
    {
     "name": "stdout",
     "output_type": "stream",
     "text": [
      "please provide numbers for list6\n"
     ]
    },
    {
     "ename": "TypeError",
     "evalue": "'<' not supported between instances of 'list' and 'int'",
     "output_type": "error",
     "traceback": [
      "\u001b[1;31m---------------------------------------------------------------------------\u001b[0m",
      "\u001b[1;31mTypeError\u001b[0m                                 Traceback (most recent call last)",
      "\u001b[1;32m<ipython-input-22-589731351186>\u001b[0m in \u001b[0;36m<module>\u001b[1;34m()\u001b[0m\n\u001b[0;32m      3\u001b[0m \u001b[0mnew_item\u001b[0m \u001b[1;33m=\u001b[0m \u001b[1;33m[\u001b[0m\u001b[1;33m]\u001b[0m\u001b[1;33m\u001b[0m\u001b[0m\n\u001b[0;32m      4\u001b[0m \u001b[1;32mfor\u001b[0m \u001b[0mi\u001b[0m \u001b[1;32min\u001b[0m \u001b[0mz\u001b[0m\u001b[1;33m:\u001b[0m\u001b[1;33m\u001b[0m\u001b[0m\n\u001b[1;32m----> 5\u001b[1;33m     \u001b[1;32mif\u001b[0m \u001b[0mz\u001b[0m \u001b[1;33m<\u001b[0m \u001b[0mnum\u001b[0m\u001b[1;33m:\u001b[0m\u001b[1;33m\u001b[0m\u001b[0m\n\u001b[0m\u001b[0;32m      6\u001b[0m         \u001b[0mnew_item\u001b[0m\u001b[1;33m.\u001b[0m\u001b[0mappend\u001b[0m\u001b[1;33m(\u001b[0m\u001b[0mi\u001b[0m\u001b[1;33m)\u001b[0m\u001b[1;33m\u001b[0m\u001b[0m\n",
      "\u001b[1;31mTypeError\u001b[0m: '<' not supported between instances of 'list' and 'int'"
     ]
    }
   ],
   "source": [
    "z = [1,2,3,4,5,6,7,8,9]\n",
    "num = int(input(\"please provide numbers for list\"))\n",
    "new_item = []\n",
    "for i in z:\n",
    "    if z < num:\n",
    "        new_item.append(i)"
   ]
  },
  {
   "cell_type": "code",
   "execution_count": 20,
   "metadata": {},
   "outputs": [
    {
     "name": "stdout",
     "output_type": "stream",
     "text": [
      "Choose a number: 22\n",
      "[1, 1, 2, 3, 5, 8, 13, 21]\n"
     ]
    }
   ],
   "source": [
    "a = [1, 1, 2, 3, 5, 8, 13, 21, 34, 55, 89]\n",
    "\n",
    "num = int(input(\"Choose a number: \"))\n",
    "\n",
    "new_list = []\n",
    "\n",
    "for i in a:\n",
    "    if i < num:\n",
    "        new_list.append(i)\n",
    "print(new_list)"
   ]
  },
  {
   "cell_type": "markdown",
   "metadata": {},
   "source": [
    "Ex 4 Divisors"
   ]
  },
  {
   "cell_type": "code",
   "execution_count": 28,
   "metadata": {},
   "outputs": [
    {
     "name": "stdout",
     "output_type": "stream",
     "text": [
      "Please enter your number6\n",
      "[4]\n"
     ]
    }
   ],
   "source": [
    "num=int(input(\"Please enter your number\"))\n",
    "new_t=range(2,10)\n",
    "list_divisor=[]\n",
    "for elements in new_t:\n",
    "    if num%elements==2:\n",
    "        list_divisor.append(elements)\n",
    "print(list_divisor)"
   ]
  },
  {
   "cell_type": "markdown",
   "metadata": {},
   "source": [
    "Ex 5\n",
    "\n",
    "List Overlap"
   ]
  },
  {
   "cell_type": "code",
   "execution_count": 15,
   "metadata": {},
   "outputs": [
    {
     "name": "stdout",
     "output_type": "stream",
     "text": [
      "[1, 2, 3, 5, 8, 13]\n"
     ]
    }
   ],
   "source": [
    "a = [1, 1, 2, 3, 5, 8, 13, 21, 34, 55, 89]\n",
    "b = [1, 2, 2, 3, 4, 5, 6, 7, 8, 9, 10, 11, 12, 13]\n",
    "\n",
    "mylist = []\n",
    "for element in a:\n",
    "    if element in b:\n",
    "        if element not in mylist:\n",
    "            mylist.append(element)\n",
    "print(mylist)"
   ]
  },
  {
   "cell_type": "markdown",
   "metadata": {},
   "source": [
    "Ex 6\n",
    "\n",
    "String Lists  -- whether this string is a palindrome or not"
   ]
  },
  {
   "cell_type": "code",
   "execution_count": 30,
   "metadata": {},
   "outputs": [
    {
     "name": "stdout",
     "output_type": "stream",
     "text": [
      "p\n"
     ]
    }
   ],
   "source": [
    "string = \"example\"\n",
    "print(string[4])"
   ]
  },
  {
   "cell_type": "code",
   "execution_count": 37,
   "metadata": {},
   "outputs": [
    {
     "name": "stdout",
     "output_type": "stream",
     "text": [
      "Please enter the number dear\n",
      "raed\n",
      "this word is not palindrom\n"
     ]
    }
   ],
   "source": [
    "word=input(str(\"Please enter the number \"))\n",
    "reverse=word[::-1]\n",
    "print(reverse)\n",
    "if word==reverse:\n",
    "    print(\"this word is a palindrome\")\n",
    "else:\n",
    "    print(\"this word is not palindrom\")"
   ]
  },
  {
   "cell_type": "code",
   "execution_count": 3,
   "metadata": {},
   "outputs": [
    {
     "name": "stdout",
     "output_type": "stream",
     "text": [
      "tell me your string mom\n",
      "yes\n"
     ]
    }
   ],
   "source": [
    "word=input(str(\"tell me your string \"))\n",
    "rev=word[::-1]\n",
    "if word==rev:\n",
    "    print(\"yes\")\n",
    "else:\n",
    "    print(\"type again \")"
   ]
  },
  {
   "cell_type": "markdown",
   "metadata": {},
   "source": [
    "Ex 7\n",
    "List Comprehensions"
   ]
  },
  {
   "cell_type": "code",
   "execution_count": 8,
   "metadata": {},
   "outputs": [
    {
     "name": "stdout",
     "output_type": "stream",
     "text": [
      "[13, 12, 11, 10, 9]\n"
     ]
    }
   ],
   "source": [
    "year_birth=[2001,2002,2003,2004,2005]\n",
    "age=[]\n",
    "for year in year_birth:\n",
    "    age.append(2014-year)\n",
    "print(age)"
   ]
  },
  {
   "cell_type": "code",
   "execution_count": 10,
   "metadata": {},
   "outputs": [
    {
     "name": "stdout",
     "output_type": "stream",
     "text": [
      "[13, 12, 11, 10, 9]\n"
     ]
    }
   ],
   "source": [
    "year_birth=[2001,2002,2003,2004,2005]\n",
    "age=[2014- year for year in year_birth]\n",
    "print(age)"
   ]
  },
  {
   "cell_type": "code",
   "execution_count": 1,
   "metadata": {},
   "outputs": [
    {
     "name": "stdout",
     "output_type": "stream",
     "text": [
      "[4, 16, 36, 64, 100]\n"
     ]
    }
   ],
   "source": [
    "a = [1, 4, 9, 16, 25, 36, 49, 64, 81, 100]\n",
    "even_list=[]\n",
    "for elements in a:\n",
    "    if elements%2==0:\n",
    "        even_list.append(elements)\n",
    "print(even_list)\n"
   ]
  },
  {
   "cell_type": "code",
   "execution_count": 5,
   "metadata": {},
   "outputs": [
    {
     "name": "stdout",
     "output_type": "stream",
     "text": [
      "[4, 16, 36, 64, 100]\n"
     ]
    }
   ],
   "source": [
    "a = [1, 4, 9, 16, 25, 36, 49, 64, 81, 100]\n",
    "even_list=[element for element in a if element%2==0]\n",
    "#even_list=[element for element in a if element%2!=0]\n",
    "print(even_list)"
   ]
  },
  {
   "cell_type": "markdown",
   "metadata": {},
   "source": [
    "Exer 8"
   ]
  },
  {
   "cell_type": "code",
   "execution_count": 7,
   "metadata": {},
   "outputs": [
    {
     "name": "stdout",
     "output_type": "stream",
     "text": [
      "Type \"enter\" to quit:quit\n",
      "Type \"enter\" to quit:enter\n"
     ]
    }
   ],
   "source": [
    "  quit = input('Type \"enter\" to quit:' )\n",
    "  while quit != \"enter\":\n",
    "    quit = input('Type \"enter\" to quit:' )"
   ]
  },
  {
   "cell_type": "code",
   "execution_count": 15,
   "metadata": {},
   "outputs": [
    {
     "name": "stdout",
     "output_type": "stream",
     "text": [
      "enter your commandquite\n"
     ]
    }
   ],
   "source": [
    "while True:\n",
    "    user_commmand=input(\"enter your command\")\n",
    "    if user_command==\"quit\":\n",
    "        break\n",
    "    else:\n",
    "        print(\"you typed \"+ user_command )\n",
    "            "
   ]
  },
  {
   "cell_type": "code",
   "execution_count": null,
   "metadata": {},
   "outputs": [
    {
     "name": "stdout",
     "output_type": "stream",
     "text": [
      "you name pleasehi\n",
      "and your name plzhi2\n",
      "hi, do yo want to choose rock, paper or scissors?paper\n",
      "hi2, do you want to choose rock, paper or scissors?scissors\n",
      "you name pleaseexit\n",
      "and your name plzhi\n",
      "exit, do yo want to choose rock, paper or scissors?hi\n",
      "hi, do you want to choose rock, paper or scissors?hi\n",
      "you name pleasehi\n"
     ]
    }
   ],
   "source": [
    "import sys\n",
    "while True:\n",
    "    user1=input(\"you name please\")\n",
    "    user2=input(\"and your name plz\")\n",
    "    user1_answer = input(\"%s, do yo want to choose rock, paper or scissors?\" % user1)\n",
    "    user2_answer = input(\"%s, do you want to choose rock, paper or scissors?\" % user2)\n",
    "    \n",
    "    def compare(u1,u2):\n",
    "        if u1==u2:\n",
    "            print(\"tie\")\n",
    "        elif u1==\"rock\":\n",
    "            if u2==\"scissors\":\n",
    "                print(\"Rock wins\")\n",
    "            else:\n",
    "                print(\"Paper wins\")\n",
    "        elif u1==\"scissors\":\n",
    "            if u2==\"paper\":\n",
    "                print(\"Scissor wins\")\n",
    "            else:\n",
    "                print(\"Rock Wins\")\n",
    "        elif u1==\"paper\":\n",
    "                if u2==\"rock\":\n",
    "                    print(\"Paper wins\")\n",
    "                else:\n",
    "                    print(\"Scissors wins\")\n",
    "        else:\n",
    "            return(\"Invalid input! You have not entered rock, paper or scissors, try again.\")\n",
    "            sys.exit()\n",
    "    \n",
    "        print(compare(user1_answer, user2_answer))\n",
    "        "
   ]
  },
  {
   "cell_type": "code",
   "execution_count": 1,
   "metadata": {},
   "outputs": [
    {
     "name": "stdout",
     "output_type": "stream",
     "text": [
      "you name pleasehi\n",
      "and your name plzhi2\n",
      "hi, do yo want to choose rock, paper or scissors?paper\n",
      "hi2, do you want to choose rock, paper or scissors?rock\n",
      "Paper wins\n"
     ]
    },
    {
     "ename": "SystemExit",
     "evalue": "",
     "output_type": "error",
     "traceback": [
      "An exception has occurred, use %tb to see the full traceback.\n",
      "\u001b[1;31mSystemExit\u001b[0m\n"
     ]
    },
    {
     "name": "stderr",
     "output_type": "stream",
     "text": [
      "C:\\Users\\pvashisth\\AppData\\Local\\Continuum\\anaconda3\\lib\\site-packages\\IPython\\core\\interactiveshell.py:2971: UserWarning: To exit: use 'exit', 'quit', or Ctrl-D.\n",
      "  warn(\"To exit: use 'exit', 'quit', or Ctrl-D.\", stacklevel=1)\n"
     ]
    }
   ],
   "source": [
    "import sys\n",
    "while True:\n",
    "    user1=input(\"you name please\")\n",
    "    user2=input(\"and your name plz\")\n",
    "    user1_answer = input(\"%s, do yo want to choose rock, paper or scissors?\" % user1)\n",
    "    user2_answer = input(\"%s, do you want to choose rock, paper or scissors?\" % user2)\n",
    "    \n",
    "    def compare(u1,u2):\n",
    "        if u1==u2:\n",
    "            print(\"tie\")\n",
    "        elif u1==\"rock\":\n",
    "            if u2==\"scissors\":\n",
    "                print(\"Rock wins\")\n",
    "            else:\n",
    "                print(\"Paper wins\")\n",
    "        elif u1==\"scissors\":\n",
    "            if u2==\"paper\":\n",
    "                print(\"Scissor wins\")\n",
    "            else:\n",
    "                print(\"Rock Wins\")\n",
    "        elif u1==\"paper\":\n",
    "                if u2==\"rock\":\n",
    "                    print(\"Paper wins\")\n",
    "                else:\n",
    "                    print(\"Scissors wins\")\n",
    "        else:\n",
    "            return(\"Invalid input! You have not entered rock, paper or scissors, try again.\")\n",
    "        sys.exit()\n",
    "    \n",
    "    print(compare(user1_answer, user2_answer))\n",
    "        "
   ]
  },
  {
   "cell_type": "markdown",
   "metadata": {},
   "source": [
    "Exer 9 ----- need a practice"
   ]
  },
  {
   "cell_type": "code",
   "execution_count": 13,
   "metadata": {},
   "outputs": [
    {
     "ename": "ValueError",
     "evalue": "invalid literal for int() with base 10: 'Please tell me your number from 1 to 9'",
     "output_type": "error",
     "traceback": [
      "\u001b[1;31m---------------------------------------------------------------------------\u001b[0m",
      "\u001b[1;31mValueError\u001b[0m                                Traceback (most recent call last)",
      "\u001b[1;32m<ipython-input-13-39abd809da6f>\u001b[0m in \u001b[0;36m<module>\u001b[1;34m()\u001b[0m\n\u001b[0;32m      1\u001b[0m \u001b[1;32mimport\u001b[0m \u001b[0mrandom\u001b[0m\u001b[1;33m\u001b[0m\u001b[0m\n\u001b[0;32m      2\u001b[0m \u001b[0mran\u001b[0m\u001b[1;33m=\u001b[0m\u001b[0mrandom\u001b[0m\u001b[1;33m.\u001b[0m\u001b[0mrandint\u001b[0m\u001b[1;33m(\u001b[0m\u001b[1;36m1\u001b[0m\u001b[1;33m,\u001b[0m\u001b[1;36m9\u001b[0m\u001b[1;33m)\u001b[0m\u001b[1;33m\u001b[0m\u001b[0m\n\u001b[1;32m----> 3\u001b[1;33m \u001b[0mguess\u001b[0m\u001b[1;33m=\u001b[0m\u001b[0minput\u001b[0m\u001b[1;33m(\u001b[0m\u001b[0mint\u001b[0m\u001b[1;33m(\u001b[0m\u001b[1;34m\"Please tell me your number from 1 to 9\"\u001b[0m\u001b[1;33m)\u001b[0m\u001b[1;33m)\u001b[0m\u001b[1;33m\u001b[0m\u001b[0m\n\u001b[0m\u001b[0;32m      4\u001b[0m \u001b[0mcount\u001b[0m \u001b[1;33m=\u001b[0m \u001b[1;36m0\u001b[0m\u001b[1;33m\u001b[0m\u001b[0m\n\u001b[0;32m      5\u001b[0m \u001b[1;32mif\u001b[0m \u001b[0mguess\u001b[0m\u001b[1;33m!=\u001b[0m\u001b[0mran\u001b[0m\u001b[1;33m:\u001b[0m\u001b[1;33m\u001b[0m\u001b[0m\n",
      "\u001b[1;31mValueError\u001b[0m: invalid literal for int() with base 10: 'Please tell me your number from 1 to 9'"
     ]
    }
   ],
   "source": [
    "import random\n",
    "ran=random.randint(1,9)\n",
    "guess=input(int(\"Please tell me your number from 1 to 9\"))\n",
    "count = 0\n",
    "if guess!=ran:\n",
    "    count+=1\n",
    "else:\n",
    "    print(\"you didnt enter the number\")\n",
    "if guess<ran:\n",
    "    print(\"its low number\")\n",
    "else:\n",
    "    print(\"it's very high\")\n",
    "if guess==ran:\n",
    "    print(\"you got the number\")\n",
    "else:\n",
    "    break\n",
    "    \n",
    "    input()\n",
    "        "
   ]
  },
  {
   "cell_type": "code",
   "execution_count": 13,
   "metadata": {},
   "outputs": [
    {
     "name": "stdout",
     "output_type": "stream",
     "text": [
      "Enter a guess between 1 to 94\n",
      "Too high\n",
      "Enter a guess between 1 to 96\n",
      "Too high\n",
      "Enter a guess between 1 to 98\n",
      "Too high\n",
      "Enter a guess between 1 to 90\n",
      "Too low\n",
      "Enter a guess between 1 to 9exit\n",
      "exit\n"
     ]
    },
    {
     "data": {
      "text/plain": [
       "'exit'"
      ]
     },
     "execution_count": 13,
     "metadata": {},
     "output_type": "execute_result"
    }
   ],
   "source": [
    "import random\n",
    "\n",
    "rd = random.randint(1,9)\n",
    "guess = 0\n",
    "c = 0\n",
    "while guess != rd and guess != \"exit\":\n",
    "    guess = input(\"Enter a guess between 1 to 9\")\n",
    "\n",
    "    if guess == \"exit\":\n",
    "        break\n",
    "\n",
    "    guess = int(guess)\n",
    "    c += 1\n",
    "\n",
    "    if guess < rd:\n",
    "        print(\"Too low\")\n",
    "    elif guess > rd:\n",
    "        print(\"Too high\")\n",
    "    else:\n",
    "        print(\"Right!\")\n",
    "        print(\"You took only\", c, \"tries!\")\n",
    "input()"
   ]
  },
  {
   "cell_type": "markdown",
   "metadata": {},
   "source": [
    "Exr 10 (Practice - the concept is clear though)\n",
    "\n",
    "List Overlap Comprehensions"
   ]
  },
  {
   "cell_type": "code",
   "execution_count": 15,
   "metadata": {},
   "outputs": [
    {
     "name": "stdout",
     "output_type": "stream",
     "text": [
      "[1, 1, 2, 3, 5, 8, 13]\n"
     ]
    }
   ],
   "source": [
    "import random\n",
    "#a=random.randint(1,9)\n",
    "#b=random.randint(10,30)\n",
    "a = [1, 1, 2, 3, 5, 8, 13, 21, 34, 55, 89]\n",
    "b = [1, 2, 3, 4, 5, 6, 7, 8, 9, 10, 11, 12, 13]\n",
    "list_new=[]\n",
    "for element in a:\n",
    "    if element in b:\n",
    "        list_new.append(element)\n",
    "print(list_new)"
   ]
  },
  {
   "cell_type": "code",
   "execution_count": 19,
   "metadata": {},
   "outputs": [
    {
     "name": "stdout",
     "output_type": "stream",
     "text": [
      "[1, 1, 2, 3, 5, 8, 13]\n"
     ]
    }
   ],
   "source": [
    "a = [1, 1, 2, 3, 5, 8, 13, 21, 34, 55, 89]\n",
    "b = [1, 2, 3, 4, 5, 6, 7, 8, 9, 10, 11, 12, 13]\n",
    "list_new=[i for i in a if i in b]\n",
    "print(list_new)"
   ]
  },
  {
   "cell_type": "code",
   "execution_count": null,
   "metadata": {},
   "outputs": [],
   "source": []
  }
 ],
 "metadata": {
  "kernelspec": {
   "display_name": "Python 3",
   "language": "python",
   "name": "python3"
  },
  "language_info": {
   "codemirror_mode": {
    "name": "ipython",
    "version": 3
   },
   "file_extension": ".py",
   "mimetype": "text/x-python",
   "name": "python",
   "nbconvert_exporter": "python",
   "pygments_lexer": "ipython3",
   "version": "3.6.5"
  }
 },
 "nbformat": 4,
 "nbformat_minor": 2
}
